{
 "cells": [
  {
   "cell_type": "code",
   "execution_count": 1,
   "id": "b4ebd171",
   "metadata": {},
   "outputs": [],
   "source": [
    "import pandas as pd"
   ]
  },
  {
   "cell_type": "code",
   "execution_count": 2,
   "id": "7cf3626e",
   "metadata": {},
   "outputs": [],
   "source": [
    "data = pd.read_csv(\"fedex.csv\")"
   ]
  },
  {
   "cell_type": "code",
   "execution_count": 3,
   "id": "6f4b9c30",
   "metadata": {},
   "outputs": [
    {
     "data": {
      "text/html": [
       "<div>\n",
       "<style scoped>\n",
       "    .dataframe tbody tr th:only-of-type {\n",
       "        vertical-align: middle;\n",
       "    }\n",
       "\n",
       "    .dataframe tbody tr th {\n",
       "        vertical-align: top;\n",
       "    }\n",
       "\n",
       "    .dataframe thead th {\n",
       "        text-align: right;\n",
       "    }\n",
       "</style>\n",
       "<table border=\"1\" class=\"dataframe\">\n",
       "  <thead>\n",
       "    <tr style=\"text-align: right;\">\n",
       "      <th></th>\n",
       "      <th>Year</th>\n",
       "      <th>Month</th>\n",
       "      <th>DayofMonth</th>\n",
       "      <th>DayOfWeek</th>\n",
       "      <th>Actual_Shipment_Time</th>\n",
       "      <th>Planned_Shipment_Time</th>\n",
       "      <th>Planned_Delivery_Time</th>\n",
       "      <th>Carrier_Name</th>\n",
       "      <th>Carrier_Num</th>\n",
       "      <th>Planned_TimeofTravel</th>\n",
       "      <th>Shipment_Delay</th>\n",
       "      <th>Source</th>\n",
       "      <th>Destination</th>\n",
       "      <th>Distance</th>\n",
       "      <th>Delivery_Status</th>\n",
       "    </tr>\n",
       "  </thead>\n",
       "  <tbody>\n",
       "    <tr>\n",
       "      <th>0</th>\n",
       "      <td>2008</td>\n",
       "      <td>1</td>\n",
       "      <td>3</td>\n",
       "      <td>4</td>\n",
       "      <td>2003.0</td>\n",
       "      <td>1955</td>\n",
       "      <td>2225</td>\n",
       "      <td>WN</td>\n",
       "      <td>335</td>\n",
       "      <td>150.0</td>\n",
       "      <td>8.0</td>\n",
       "      <td>IAD</td>\n",
       "      <td>TPA</td>\n",
       "      <td>810</td>\n",
       "      <td>0.0</td>\n",
       "    </tr>\n",
       "    <tr>\n",
       "      <th>1</th>\n",
       "      <td>2008</td>\n",
       "      <td>1</td>\n",
       "      <td>3</td>\n",
       "      <td>4</td>\n",
       "      <td>754.0</td>\n",
       "      <td>735</td>\n",
       "      <td>1000</td>\n",
       "      <td>WN</td>\n",
       "      <td>3231</td>\n",
       "      <td>145.0</td>\n",
       "      <td>19.0</td>\n",
       "      <td>IAD</td>\n",
       "      <td>TPA</td>\n",
       "      <td>810</td>\n",
       "      <td>1.0</td>\n",
       "    </tr>\n",
       "    <tr>\n",
       "      <th>2</th>\n",
       "      <td>2008</td>\n",
       "      <td>1</td>\n",
       "      <td>3</td>\n",
       "      <td>4</td>\n",
       "      <td>628.0</td>\n",
       "      <td>620</td>\n",
       "      <td>750</td>\n",
       "      <td>WN</td>\n",
       "      <td>448</td>\n",
       "      <td>90.0</td>\n",
       "      <td>8.0</td>\n",
       "      <td>IND</td>\n",
       "      <td>BWI</td>\n",
       "      <td>515</td>\n",
       "      <td>0.0</td>\n",
       "    </tr>\n",
       "    <tr>\n",
       "      <th>3</th>\n",
       "      <td>2008</td>\n",
       "      <td>1</td>\n",
       "      <td>3</td>\n",
       "      <td>4</td>\n",
       "      <td>926.0</td>\n",
       "      <td>930</td>\n",
       "      <td>1100</td>\n",
       "      <td>WN</td>\n",
       "      <td>1746</td>\n",
       "      <td>90.0</td>\n",
       "      <td>-4.0</td>\n",
       "      <td>IND</td>\n",
       "      <td>BWI</td>\n",
       "      <td>515</td>\n",
       "      <td>0.0</td>\n",
       "    </tr>\n",
       "    <tr>\n",
       "      <th>4</th>\n",
       "      <td>2008</td>\n",
       "      <td>1</td>\n",
       "      <td>3</td>\n",
       "      <td>4</td>\n",
       "      <td>1829.0</td>\n",
       "      <td>1755</td>\n",
       "      <td>1925</td>\n",
       "      <td>WN</td>\n",
       "      <td>3920</td>\n",
       "      <td>90.0</td>\n",
       "      <td>34.0</td>\n",
       "      <td>IND</td>\n",
       "      <td>BWI</td>\n",
       "      <td>515</td>\n",
       "      <td>1.0</td>\n",
       "    </tr>\n",
       "    <tr>\n",
       "      <th>...</th>\n",
       "      <td>...</td>\n",
       "      <td>...</td>\n",
       "      <td>...</td>\n",
       "      <td>...</td>\n",
       "      <td>...</td>\n",
       "      <td>...</td>\n",
       "      <td>...</td>\n",
       "      <td>...</td>\n",
       "      <td>...</td>\n",
       "      <td>...</td>\n",
       "      <td>...</td>\n",
       "      <td>...</td>\n",
       "      <td>...</td>\n",
       "      <td>...</td>\n",
       "      <td>...</td>\n",
       "    </tr>\n",
       "    <tr>\n",
       "      <th>3604170</th>\n",
       "      <td>2008</td>\n",
       "      <td>6</td>\n",
       "      <td>19</td>\n",
       "      <td>4</td>\n",
       "      <td>1059.0</td>\n",
       "      <td>1100</td>\n",
       "      <td>1256</td>\n",
       "      <td>DL</td>\n",
       "      <td>1547</td>\n",
       "      <td>236.0</td>\n",
       "      <td>-1.0</td>\n",
       "      <td>ATL</td>\n",
       "      <td>JAC</td>\n",
       "      <td>1572</td>\n",
       "      <td>0.0</td>\n",
       "    </tr>\n",
       "    <tr>\n",
       "      <th>3604171</th>\n",
       "      <td>2008</td>\n",
       "      <td>6</td>\n",
       "      <td>19</td>\n",
       "      <td>4</td>\n",
       "      <td>555.0</td>\n",
       "      <td>600</td>\n",
       "      <td>738</td>\n",
       "      <td>DL</td>\n",
       "      <td>1548</td>\n",
       "      <td>98.0</td>\n",
       "      <td>-5.0</td>\n",
       "      <td>RSW</td>\n",
       "      <td>ATL</td>\n",
       "      <td>515</td>\n",
       "      <td>0.0</td>\n",
       "    </tr>\n",
       "    <tr>\n",
       "      <th>3604172</th>\n",
       "      <td>2008</td>\n",
       "      <td>6</td>\n",
       "      <td>19</td>\n",
       "      <td>4</td>\n",
       "      <td>821.0</td>\n",
       "      <td>827</td>\n",
       "      <td>1003</td>\n",
       "      <td>DL</td>\n",
       "      <td>1548</td>\n",
       "      <td>96.0</td>\n",
       "      <td>-6.0</td>\n",
       "      <td>ATL</td>\n",
       "      <td>IND</td>\n",
       "      <td>432</td>\n",
       "      <td>0.0</td>\n",
       "    </tr>\n",
       "    <tr>\n",
       "      <th>3604173</th>\n",
       "      <td>2008</td>\n",
       "      <td>6</td>\n",
       "      <td>19</td>\n",
       "      <td>4</td>\n",
       "      <td>718.0</td>\n",
       "      <td>735</td>\n",
       "      <td>852</td>\n",
       "      <td>DL</td>\n",
       "      <td>1551</td>\n",
       "      <td>77.0</td>\n",
       "      <td>-17.0</td>\n",
       "      <td>CAE</td>\n",
       "      <td>ATL</td>\n",
       "      <td>191</td>\n",
       "      <td>0.0</td>\n",
       "    </tr>\n",
       "    <tr>\n",
       "      <th>3604174</th>\n",
       "      <td>2008</td>\n",
       "      <td>6</td>\n",
       "      <td>19</td>\n",
       "      <td>4</td>\n",
       "      <td>1127.0</td>\n",
       "      <td>951</td>\n",
       "      <td>1130</td>\n",
       "      <td>DL</td>\n",
       "      <td>1551</td>\n",
       "      <td>159.0</td>\n",
       "      <td>96.0</td>\n",
       "      <td>ATL</td>\n",
       "      <td>MSP</td>\n",
       "      <td>906</td>\n",
       "      <td>1.0</td>\n",
       "    </tr>\n",
       "  </tbody>\n",
       "</table>\n",
       "<p>3604175 rows × 15 columns</p>\n",
       "</div>"
      ],
      "text/plain": [
       "         Year  Month  DayofMonth  DayOfWeek  Actual_Shipment_Time  \\\n",
       "0        2008      1           3          4                2003.0   \n",
       "1        2008      1           3          4                 754.0   \n",
       "2        2008      1           3          4                 628.0   \n",
       "3        2008      1           3          4                 926.0   \n",
       "4        2008      1           3          4                1829.0   \n",
       "...       ...    ...         ...        ...                   ...   \n",
       "3604170  2008      6          19          4                1059.0   \n",
       "3604171  2008      6          19          4                 555.0   \n",
       "3604172  2008      6          19          4                 821.0   \n",
       "3604173  2008      6          19          4                 718.0   \n",
       "3604174  2008      6          19          4                1127.0   \n",
       "\n",
       "         Planned_Shipment_Time  Planned_Delivery_Time Carrier_Name  \\\n",
       "0                         1955                   2225           WN   \n",
       "1                          735                   1000           WN   \n",
       "2                          620                    750           WN   \n",
       "3                          930                   1100           WN   \n",
       "4                         1755                   1925           WN   \n",
       "...                        ...                    ...          ...   \n",
       "3604170                   1100                   1256           DL   \n",
       "3604171                    600                    738           DL   \n",
       "3604172                    827                   1003           DL   \n",
       "3604173                    735                    852           DL   \n",
       "3604174                    951                   1130           DL   \n",
       "\n",
       "         Carrier_Num  Planned_TimeofTravel  Shipment_Delay Source Destination  \\\n",
       "0                335                 150.0             8.0    IAD         TPA   \n",
       "1               3231                 145.0            19.0    IAD         TPA   \n",
       "2                448                  90.0             8.0    IND         BWI   \n",
       "3               1746                  90.0            -4.0    IND         BWI   \n",
       "4               3920                  90.0            34.0    IND         BWI   \n",
       "...              ...                   ...             ...    ...         ...   \n",
       "3604170         1547                 236.0            -1.0    ATL         JAC   \n",
       "3604171         1548                  98.0            -5.0    RSW         ATL   \n",
       "3604172         1548                  96.0            -6.0    ATL         IND   \n",
       "3604173         1551                  77.0           -17.0    CAE         ATL   \n",
       "3604174         1551                 159.0            96.0    ATL         MSP   \n",
       "\n",
       "         Distance  Delivery_Status  \n",
       "0             810              0.0  \n",
       "1             810              1.0  \n",
       "2             515              0.0  \n",
       "3             515              0.0  \n",
       "4             515              1.0  \n",
       "...           ...              ...  \n",
       "3604170      1572              0.0  \n",
       "3604171       515              0.0  \n",
       "3604172       432              0.0  \n",
       "3604173       191              0.0  \n",
       "3604174       906              1.0  \n",
       "\n",
       "[3604175 rows x 15 columns]"
      ]
     },
     "execution_count": 3,
     "metadata": {},
     "output_type": "execute_result"
    }
   ],
   "source": [
    "data"
   ]
  },
  {
   "cell_type": "code",
   "execution_count": 4,
   "metadata": {},
   "outputs": [
    {
     "data": {
      "text/plain": [
       "Index(['Year', 'Month', 'DayofMonth', 'DayOfWeek', 'Actual_Shipment_Time',\n",
       "       'Planned_Shipment_Time', 'Planned_Delivery_Time', 'Carrier_Name',\n",
       "       'Carrier_Num', 'Planned_TimeofTravel', 'Shipment_Delay', 'Source',\n",
       "       'Destination', 'Distance', 'Delivery_Status'],\n",
       "      dtype='object')"
      ]
     },
     "execution_count": 4,
     "metadata": {},
     "output_type": "execute_result"
    }
   ],
   "source": [
    "data.columns"
   ]
  },
  {
   "cell_type": "code",
   "execution_count": 5,
   "id": "0dd57487",
   "metadata": {},
   "outputs": [
    {
     "name": "stdout",
     "output_type": "stream",
     "text": [
      "<class 'pandas.core.frame.DataFrame'>\n",
      "RangeIndex: 3604175 entries, 0 to 3604174\n",
      "Data columns (total 15 columns):\n",
      " #   Column                 Dtype  \n",
      "---  ------                 -----  \n",
      " 0   Year                   int64  \n",
      " 1   Month                  int64  \n",
      " 2   DayofMonth             int64  \n",
      " 3   DayOfWeek              int64  \n",
      " 4   Actual_Shipment_Time   float64\n",
      " 5   Planned_Shipment_Time  int64  \n",
      " 6   Planned_Delivery_Time  int64  \n",
      " 7   Carrier_Name           object \n",
      " 8   Carrier_Num            int64  \n",
      " 9   Planned_TimeofTravel   float64\n",
      " 10  Shipment_Delay         float64\n",
      " 11  Source                 object \n",
      " 12  Destination            object \n",
      " 13  Distance               int64  \n",
      " 14  Delivery_Status        float64\n",
      "dtypes: float64(4), int64(8), object(3)\n",
      "memory usage: 412.5+ MB\n"
     ]
    }
   ],
   "source": [
    "data.info()"
   ]
  },
  {
   "cell_type": "markdown",
   "metadata": {},
   "source": [
    "Importnig the required libraries"
   ]
  },
  {
   "cell_type": "code",
   "execution_count": 6,
   "id": "b36c9e37",
   "metadata": {},
   "outputs": [],
   "source": [
    "import warnings\n",
    "warnings.filterwarnings('ignore')"
   ]
  },
  {
   "cell_type": "code",
   "execution_count": 7,
   "id": "0baba406",
   "metadata": {},
   "outputs": [],
   "source": [
    "import numpy as np\n",
    "import seaborn as sns\n",
    "import matplotlib.pyplot as plt\n",
    "\n",
    "from sklearn.compose import ColumnTransformer\n",
    "from sklearn.preprocessing import LabelEncoder\n",
    "from sklearn.preprocessing import OneHotEncoder\n",
    "from sklearn.preprocessing import MinMaxScaler\n",
    "from sklearn.model_selection import train_test_split # train and test"
   ]
  },
  {
   "cell_type": "code",
   "execution_count": 8,
   "id": "0854f281",
   "metadata": {},
   "outputs": [
    {
     "data": {
      "text/plain": [
       "Year                         0\n",
       "Month                        0\n",
       "DayofMonth                   0\n",
       "DayOfWeek                    0\n",
       "Actual_Shipment_Time     81602\n",
       "Planned_Shipment_Time        0\n",
       "Planned_Delivery_Time        0\n",
       "Carrier_Name                 0\n",
       "Carrier_Num                  0\n",
       "Planned_TimeofTravel       547\n",
       "Shipment_Delay           81602\n",
       "Source                       0\n",
       "Destination                  0\n",
       "Distance                     0\n",
       "Delivery_Status          81602\n",
       "dtype: int64"
      ]
     },
     "execution_count": 8,
     "metadata": {},
     "output_type": "execute_result"
    }
   ],
   "source": [
    "data.isna().sum()"
   ]
  },
  {
   "cell_type": "code",
   "execution_count": 9,
   "id": "b7244b83",
   "metadata": {},
   "outputs": [
    {
     "data": {
      "text/plain": [
       "True"
      ]
     },
     "execution_count": 9,
     "metadata": {},
     "output_type": "execute_result"
    }
   ],
   "source": [
    "data.duplicated().any()"
   ]
  },
  {
   "cell_type": "code",
   "execution_count": 10,
   "id": "85001d62",
   "metadata": {},
   "outputs": [],
   "source": [
    "catagorical_columns = data[[\"Carrier_Name\", \"Source\", \"Destination\"]]"
   ]
  },
  {
   "cell_type": "code",
   "execution_count": 11,
   "id": "962910b5",
   "metadata": {},
   "outputs": [],
   "source": [
    "numerical_columns = data[['Year', 'Month', 'DayofMonth', 'DayOfWeek', 'Actual_Shipment_Time',\n",
    "                       'Planned_Shipment_Time', 'Planned_Delivery_Time', 'Carrier_Num', 'Planned_TimeofTravel',\n",
    "                        'Shipment_Delay', 'Distance', 'Delivery_Status']]"
   ]
  },
  {
   "cell_type": "code",
   "execution_count": 12,
   "id": "ca6eb257",
   "metadata": {},
   "outputs": [
    {
     "data": {
      "text/plain": [
       "<AxesSubplot:xlabel='Month'>"
      ]
     },
     "execution_count": 12,
     "metadata": {},
     "output_type": "execute_result"
    },
    {
     "data": {
      "image/png": "[encoded data removed]",
      "text/plain": [
       "<Figure size 432x288 with 1 Axes>"
      ]
     },
     "metadata": {
      "needs_background": "light"
     },
     "output_type": "display_data"
    }
   ],
   "source": [
    "sns.boxplot(data['Month'])"
   ]
  },
  {
   "cell_type": "code",
   "execution_count": 13,
   "id": "0ce316b4",
   "metadata": {},
   "outputs": [
    {
     "data": {
      "text/plain": [
       "<AxesSubplot:xlabel='DayofMonth'>"
      ]
     },
     "execution_count": 13,
     "metadata": {},
     "output_type": "execute_result"
    },
    {
     "data": {
      "image/png": "[encoded data removed]",
      "text/plain": [
       "<Figure size 432x288 with 1 Axes>"
      ]
     },
     "metadata": {
      "needs_background": "light"
     },
     "output_type": "display_data"
    }
   ],
   "source": [
    "sns.boxplot(data['DayofMonth'])"
   ]
  },
  {
   "cell_type": "code",
   "execution_count": 14,
   "id": "7d53063b",
   "metadata": {},
   "outputs": [
    {
     "data": {
      "text/plain": [
       "<AxesSubplot:xlabel='DayOfWeek'>"
      ]
     },
     "execution_count": 14,
     "metadata": {},
     "output_type": "execute_result"
    },
    {
     "data": {
      "image/png": "[encoded data removed]",
      "text/plain": [
       "<Figure size 432x288 with 1 Axes>"
      ]
     },
     "metadata": {
      "needs_background": "light"
     },
     "output_type": "display_data"
    }
   ],
   "source": [
    "sns.boxplot(data['DayOfWeek'])"
   ]
  },
  {
   "cell_type": "code",
   "execution_count": 15,
   "id": "f5180b3a",
   "metadata": {},
   "outputs": [
    {
     "data": {
      "text/plain": [
       "<AxesSubplot:xlabel='Actual_Shipment_Time'>"
      ]
     },
     "execution_count": 15,
     "metadata": {},
     "output_type": "execute_result"
    },
    {
     "data": {
      "image/png": "[encoded data removed]",
      "text/plain": [
       "<Figure size 432x288 with 1 Axes>"
      ]
     },
     "metadata": {
      "needs_background": "light"
     },
     "output_type": "display_data"
    }
   ],
   "source": [
    "sns.boxplot(data['Actual_Shipment_Time'])"
   ]
  },
  {
   "cell_type": "code",
   "execution_count": 16,
   "id": "2ebd3f99",
   "metadata": {},
   "outputs": [
    {
     "data": {
      "text/plain": [
       "<AxesSubplot:xlabel='Planned_Shipment_Time'>"
      ]
     },
     "execution_count": 16,
     "metadata": {},
     "output_type": "execute_result"
    },
    {
     "data": {
      "image/png": "[encoded data removed]",
      "text/plain": [
       "<Figure size 432x288 with 1 Axes>"
      ]
     },
     "metadata": {
      "needs_background": "light"
     },
     "output_type": "display_data"
    }
   ],
   "source": [
    "sns.boxplot(data['Planned_Shipment_Time'])"
   ]
  },
  {
   "cell_type": "code",
   "execution_count": 17,
   "id": "456f448a",
   "metadata": {},
   "outputs": [
    {
     "data": {
      "text/plain": [
       "<AxesSubplot:xlabel='Planned_Delivery_Time'>"
      ]
     },
     "execution_count": 17,
     "metadata": {},
     "output_type": "execute_result"
    },
    {
     "data": {
      "image/png": "[encoded data removed]",
      "text/plain": [
       "<Figure size 432x288 with 1 Axes>"
      ]
     },
     "metadata": {
      "needs_background": "light"
     },
     "output_type": "display_data"
    }
   ],
   "source": [
    "sns.boxplot(data['Planned_Delivery_Time'])"
   ]
  },
  {
   "cell_type": "code",
   "execution_count": 18,
   "id": "742814c3",
   "metadata": {},
   "outputs": [
    {
     "data": {
      "text/plain": [
       "<AxesSubplot:xlabel='Carrier_Num'>"
      ]
     },
     "execution_count": 18,
     "metadata": {},
     "output_type": "execute_result"
    },
    {
     "data": {
      "image/png": "[encoded data removed]",
      "text/plain": [
       "<Figure size 432x288 with 1 Axes>"
      ]
     },
     "metadata": {
      "needs_background": "light"
     },
     "output_type": "display_data"
    }
   ],
   "source": [
    "sns.boxplot(data['Carrier_Num'])"
   ]
  },
  {
   "cell_type": "code",
   "execution_count": 19,
   "id": "043e7c6f",
   "metadata": {},
   "outputs": [
    {
     "data": {
      "text/plain": [
       "<AxesSubplot:xlabel='Planned_TimeofTravel'>"
      ]
     },
     "execution_count": 19,
     "metadata": {},
     "output_type": "execute_result"
    },
    {
     "data": {
      "image/png": "[encoded data removed]",
      "text/plain": [
       "<Figure size 432x288 with 1 Axes>"
      ]
     },
     "metadata": {
      "needs_background": "light"
     },
     "output_type": "display_data"
    }
   ],
   "source": [
    "sns.boxplot(data['Planned_TimeofTravel'])"
   ]
  },
  {
   "cell_type": "code",
   "execution_count": 20,
   "id": "18c60866",
   "metadata": {},
   "outputs": [
    {
     "data": {
      "text/plain": [
       "<AxesSubplot:xlabel='Shipment_Delay'>"
      ]
     },
     "execution_count": 20,
     "metadata": {},
     "output_type": "execute_result"
    },
    {
     "data": {
      "image/png": "[encoded data removed]",
      "text/plain": [
       "<Figure size 432x288 with 1 Axes>"
      ]
     },
     "metadata": {
      "needs_background": "light"
     },
     "output_type": "display_data"
    }
   ],
   "source": [
    "sns.boxplot(data['Shipment_Delay'])"
   ]
  },
  {
   "cell_type": "code",
   "execution_count": 21,
   "id": "011a0430",
   "metadata": {},
   "outputs": [
    {
     "data": {
      "text/plain": [
       "<AxesSubplot:xlabel='Distance'>"
      ]
     },
     "execution_count": 21,
     "metadata": {},
     "output_type": "execute_result"
    },
    {
     "data": {
      "image/png": "[encoded data removed]",
      "text/plain": [
       "<Figure size 432x288 with 1 Axes>"
      ]
     },
     "metadata": {
      "needs_background": "light"
     },
     "output_type": "display_data"
    }
   ],
   "source": [
    "sns.boxplot(data['Distance'])"
   ]
  },
  {
   "cell_type": "code",
   "execution_count": 22,
   "id": "a4b3e60c",
   "metadata": {},
   "outputs": [
    {
     "data": {
      "text/plain": [
       "<AxesSubplot:xlabel='Carrier_Name', ylabel='count'>"
      ]
     },
     "execution_count": 22,
     "metadata": {},
     "output_type": "execute_result"
    },
    {
     "data": {
      "image/png": "[encoded data removed]",
      "text/plain": [
       "<Figure size 1296x432 with 1 Axes>"
      ]
     },
     "metadata": {
      "needs_background": "light"
     },
     "output_type": "display_data"
    }
   ],
   "source": [
    "plt.figure(figsize=(18, 6 ))\n",
    "sns.countplot(data = data, x= 'Carrier_Name' , hue = 'Delivery_Status')"
   ]
  },
  {
   "cell_type": "code",
   "execution_count": 23,
   "id": "f4b60b39",
   "metadata": {},
   "outputs": [
    {
     "data": {
      "image/png": "[encoded data removed]",
      "text/plain": [
       "<Figure size 720x360 with 2 Axes>"
      ]
     },
     "metadata": {
      "needs_background": "light"
     },
     "output_type": "display_data"
    }
   ],
   "source": [
    "plt.figure(figsize=(10,5))\n",
    "a = data.corr()\n",
    "mask = np.triu(np.ones_like(a, dtype=bool))\n",
    "sns.heatmap(a, mask = mask, annot=True, cmap='plasma_r');\n"
   ]
  },
  {
   "cell_type": "code",
   "execution_count": 24,
   "id": "31379bdc",
   "metadata": {},
   "outputs": [],
   "source": [
    "data = data.drop_duplicates()"
   ]
  },
  {
   "cell_type": "markdown",
   "metadata": {},
   "source": [
    "Droping the zero varience column  "
   ]
  },
  {
   "cell_type": "code",
   "execution_count": 25,
   "id": "e8f5181a",
   "metadata": {},
   "outputs": [],
   "source": [
    "c1 = data.drop('Year', axis=1)"
   ]
  },
  {
   "cell_type": "markdown",
   "id": "dd383a62",
   "metadata": {},
   "source": [
    "Droping the NAN values"
   ]
  },
  {
   "cell_type": "code",
   "execution_count": 26,
   "id": "d33cae25",
   "metadata": {},
   "outputs": [],
   "source": [
    "c2 = c1.dropna()"
   ]
  },
  {
   "cell_type": "code",
   "execution_count": 27,
   "id": "a88d9982",
   "metadata": {},
   "outputs": [
    {
     "data": {
      "text/html": [
       "<div>\n",
       "<style scoped>\n",
       "    .dataframe tbody tr th:only-of-type {\n",
       "        vertical-align: middle;\n",
       "    }\n",
       "\n",
       "    .dataframe tbody tr th {\n",
       "        vertical-align: top;\n",
       "    }\n",
       "\n",
       "    .dataframe thead th {\n",
       "        text-align: right;\n",
       "    }\n",
       "</style>\n",
       "<table border=\"1\" class=\"dataframe\">\n",
       "  <thead>\n",
       "    <tr style=\"text-align: right;\">\n",
       "      <th></th>\n",
       "      <th>Month</th>\n",
       "      <th>DayofMonth</th>\n",
       "      <th>DayOfWeek</th>\n",
       "      <th>Actual_Shipment_Time</th>\n",
       "      <th>Planned_Shipment_Time</th>\n",
       "      <th>Planned_Delivery_Time</th>\n",
       "      <th>Carrier_Name</th>\n",
       "      <th>Carrier_Num</th>\n",
       "      <th>Planned_TimeofTravel</th>\n",
       "      <th>Shipment_Delay</th>\n",
       "      <th>Source</th>\n",
       "      <th>Destination</th>\n",
       "      <th>Distance</th>\n",
       "      <th>Delivery_Status</th>\n",
       "    </tr>\n",
       "  </thead>\n",
       "  <tbody>\n",
       "    <tr>\n",
       "      <th>0</th>\n",
       "      <td>1</td>\n",
       "      <td>3</td>\n",
       "      <td>4</td>\n",
       "      <td>2003.0</td>\n",
       "      <td>1955</td>\n",
       "      <td>2225</td>\n",
       "      <td>WN</td>\n",
       "      <td>335</td>\n",
       "      <td>150.0</td>\n",
       "      <td>8.0</td>\n",
       "      <td>IAD</td>\n",
       "      <td>TPA</td>\n",
       "      <td>810</td>\n",
       "      <td>0.0</td>\n",
       "    </tr>\n",
       "    <tr>\n",
       "      <th>1</th>\n",
       "      <td>1</td>\n",
       "      <td>3</td>\n",
       "      <td>4</td>\n",
       "      <td>754.0</td>\n",
       "      <td>735</td>\n",
       "      <td>1000</td>\n",
       "      <td>WN</td>\n",
       "      <td>3231</td>\n",
       "      <td>145.0</td>\n",
       "      <td>19.0</td>\n",
       "      <td>IAD</td>\n",
       "      <td>TPA</td>\n",
       "      <td>810</td>\n",
       "      <td>1.0</td>\n",
       "    </tr>\n",
       "    <tr>\n",
       "      <th>2</th>\n",
       "      <td>1</td>\n",
       "      <td>3</td>\n",
       "      <td>4</td>\n",
       "      <td>628.0</td>\n",
       "      <td>620</td>\n",
       "      <td>750</td>\n",
       "      <td>WN</td>\n",
       "      <td>448</td>\n",
       "      <td>90.0</td>\n",
       "      <td>8.0</td>\n",
       "      <td>IND</td>\n",
       "      <td>BWI</td>\n",
       "      <td>515</td>\n",
       "      <td>0.0</td>\n",
       "    </tr>\n",
       "    <tr>\n",
       "      <th>3</th>\n",
       "      <td>1</td>\n",
       "      <td>3</td>\n",
       "      <td>4</td>\n",
       "      <td>926.0</td>\n",
       "      <td>930</td>\n",
       "      <td>1100</td>\n",
       "      <td>WN</td>\n",
       "      <td>1746</td>\n",
       "      <td>90.0</td>\n",
       "      <td>-4.0</td>\n",
       "      <td>IND</td>\n",
       "      <td>BWI</td>\n",
       "      <td>515</td>\n",
       "      <td>0.0</td>\n",
       "    </tr>\n",
       "    <tr>\n",
       "      <th>4</th>\n",
       "      <td>1</td>\n",
       "      <td>3</td>\n",
       "      <td>4</td>\n",
       "      <td>1829.0</td>\n",
       "      <td>1755</td>\n",
       "      <td>1925</td>\n",
       "      <td>WN</td>\n",
       "      <td>3920</td>\n",
       "      <td>90.0</td>\n",
       "      <td>34.0</td>\n",
       "      <td>IND</td>\n",
       "      <td>BWI</td>\n",
       "      <td>515</td>\n",
       "      <td>1.0</td>\n",
       "    </tr>\n",
       "    <tr>\n",
       "      <th>...</th>\n",
       "      <td>...</td>\n",
       "      <td>...</td>\n",
       "      <td>...</td>\n",
       "      <td>...</td>\n",
       "      <td>...</td>\n",
       "      <td>...</td>\n",
       "      <td>...</td>\n",
       "      <td>...</td>\n",
       "      <td>...</td>\n",
       "      <td>...</td>\n",
       "      <td>...</td>\n",
       "      <td>...</td>\n",
       "      <td>...</td>\n",
       "      <td>...</td>\n",
       "    </tr>\n",
       "    <tr>\n",
       "      <th>3604170</th>\n",
       "      <td>6</td>\n",
       "      <td>19</td>\n",
       "      <td>4</td>\n",
       "      <td>1059.0</td>\n",
       "      <td>1100</td>\n",
       "      <td>1256</td>\n",
       "      <td>DL</td>\n",
       "      <td>1547</td>\n",
       "      <td>236.0</td>\n",
       "      <td>-1.0</td>\n",
       "      <td>ATL</td>\n",
       "      <td>JAC</td>\n",
       "      <td>1572</td>\n",
       "      <td>0.0</td>\n",
       "    </tr>\n",
       "    <tr>\n",
       "      <th>3604171</th>\n",
       "      <td>6</td>\n",
       "      <td>19</td>\n",
       "      <td>4</td>\n",
       "      <td>555.0</td>\n",
       "      <td>600</td>\n",
       "      <td>738</td>\n",
       "      <td>DL</td>\n",
       "      <td>1548</td>\n",
       "      <td>98.0</td>\n",
       "      <td>-5.0</td>\n",
       "      <td>RSW</td>\n",
       "      <td>ATL</td>\n",
       "      <td>515</td>\n",
       "      <td>0.0</td>\n",
       "    </tr>\n",
       "    <tr>\n",
       "      <th>3604172</th>\n",
       "      <td>6</td>\n",
       "      <td>19</td>\n",
       "      <td>4</td>\n",
       "      <td>821.0</td>\n",
       "      <td>827</td>\n",
       "      <td>1003</td>\n",
       "      <td>DL</td>\n",
       "      <td>1548</td>\n",
       "      <td>96.0</td>\n",
       "      <td>-6.0</td>\n",
       "      <td>ATL</td>\n",
       "      <td>IND</td>\n",
       "      <td>432</td>\n",
       "      <td>0.0</td>\n",
       "    </tr>\n",
       "    <tr>\n",
       "      <th>3604173</th>\n",
       "      <td>6</td>\n",
       "      <td>19</td>\n",
       "      <td>4</td>\n",
       "      <td>718.0</td>\n",
       "      <td>735</td>\n",
       "      <td>852</td>\n",
       "      <td>DL</td>\n",
       "      <td>1551</td>\n",
       "      <td>77.0</td>\n",
       "      <td>-17.0</td>\n",
       "      <td>CAE</td>\n",
       "      <td>ATL</td>\n",
       "      <td>191</td>\n",
       "      <td>0.0</td>\n",
       "    </tr>\n",
       "    <tr>\n",
       "      <th>3604174</th>\n",
       "      <td>6</td>\n",
       "      <td>19</td>\n",
       "      <td>4</td>\n",
       "      <td>1127.0</td>\n",
       "      <td>951</td>\n",
       "      <td>1130</td>\n",
       "      <td>DL</td>\n",
       "      <td>1551</td>\n",
       "      <td>159.0</td>\n",
       "      <td>96.0</td>\n",
       "      <td>ATL</td>\n",
       "      <td>MSP</td>\n",
       "      <td>906</td>\n",
       "      <td>1.0</td>\n",
       "    </tr>\n",
       "  </tbody>\n",
       "</table>\n",
       "<p>3522163 rows × 14 columns</p>\n",
       "</div>"
      ],
      "text/plain": [
       "         Month  DayofMonth  DayOfWeek  Actual_Shipment_Time  \\\n",
       "0            1           3          4                2003.0   \n",
       "1            1           3          4                 754.0   \n",
       "2            1           3          4                 628.0   \n",
       "3            1           3          4                 926.0   \n",
       "4            1           3          4                1829.0   \n",
       "...        ...         ...        ...                   ...   \n",
       "3604170      6          19          4                1059.0   \n",
       "3604171      6          19          4                 555.0   \n",
       "3604172      6          19          4                 821.0   \n",
       "3604173      6          19          4                 718.0   \n",
       "3604174      6          19          4                1127.0   \n",
       "\n",
       "         Planned_Shipment_Time  Planned_Delivery_Time Carrier_Name  \\\n",
       "0                         1955                   2225           WN   \n",
       "1                          735                   1000           WN   \n",
       "2                          620                    750           WN   \n",
       "3                          930                   1100           WN   \n",
       "4                         1755                   1925           WN   \n",
       "...                        ...                    ...          ...   \n",
       "3604170                   1100                   1256           DL   \n",
       "3604171                    600                    738           DL   \n",
       "3604172                    827                   1003           DL   \n",
       "3604173                    735                    852           DL   \n",
       "3604174                    951                   1130           DL   \n",
       "\n",
       "         Carrier_Num  Planned_TimeofTravel  Shipment_Delay Source Destination  \\\n",
       "0                335                 150.0             8.0    IAD         TPA   \n",
       "1               3231                 145.0            19.0    IAD         TPA   \n",
       "2                448                  90.0             8.0    IND         BWI   \n",
       "3               1746                  90.0            -4.0    IND         BWI   \n",
       "4               3920                  90.0            34.0    IND         BWI   \n",
       "...              ...                   ...             ...    ...         ...   \n",
       "3604170         1547                 236.0            -1.0    ATL         JAC   \n",
       "3604171         1548                  98.0            -5.0    RSW         ATL   \n",
       "3604172         1548                  96.0            -6.0    ATL         IND   \n",
       "3604173         1551                  77.0           -17.0    CAE         ATL   \n",
       "3604174         1551                 159.0            96.0    ATL         MSP   \n",
       "\n",
       "         Distance  Delivery_Status  \n",
       "0             810              0.0  \n",
       "1             810              1.0  \n",
       "2             515              0.0  \n",
       "3             515              0.0  \n",
       "4             515              1.0  \n",
       "...           ...              ...  \n",
       "3604170      1572              0.0  \n",
       "3604171       515              0.0  \n",
       "3604172       432              0.0  \n",
       "3604173       191              0.0  \n",
       "3604174       906              1.0  \n",
       "\n",
       "[3522163 rows x 14 columns]"
      ]
     },
     "execution_count": 27,
     "metadata": {},
     "output_type": "execute_result"
    }
   ],
   "source": [
    "c2"
   ]
  },
  {
   "cell_type": "code",
   "execution_count": 28,
   "id": "1187035e",
   "metadata": {},
   "outputs": [
    {
     "name": "stdout",
     "output_type": "stream",
     "text": [
      "Year  :  1 Unique Values\n",
      "Month  :  6 Unique Values\n",
      "DayofMonth  :  31 Unique Values\n",
      "DayOfWeek  :  7 Unique Values\n",
      "Actual_Shipment_Time  :  1440 Unique Values\n",
      "Planned_Shipment_Time  :  1188 Unique Values\n",
      "Planned_Delivery_Time  :  1353 Unique Values\n",
      "Carrier_Name  :  20 Unique Values\n",
      "Carrier_Num  :  7340 Unique Values\n",
      "Planned_TimeofTravel  :  500 Unique Values\n",
      "Shipment_Delay  :  998 Unique Values\n",
      "Source  :  297 Unique Values\n",
      "Destination  :  299 Unique Values\n",
      "Distance  :  1423 Unique Values\n",
      "Delivery_Status  :  3 Unique Values\n"
     ]
    }
   ],
   "source": [
    "for col in data.columns[:]:\n",
    "    print(col, ' : ', len(data[col].unique()), 'Unique Values')"
   ]
  },
  {
   "cell_type": "markdown",
   "id": "6f39398b",
   "metadata": {},
   "source": [
    "Converting catogorical data to integeral data"
   ]
  },
  {
   "cell_type": "code",
   "execution_count": 29,
   "id": "ecb5dab6",
   "metadata": {},
   "outputs": [],
   "source": [
    "lb = LabelEncoder()\n",
    "c2[\"Carrier_Name\"] = lb.fit_transform(c2[\"Carrier_Name\"])\n",
    "c2[\"Source\"] = lb.fit_transform(c2[\"Source\"])\n",
    "c2[\"Destination\"] = lb.fit_transform(c2[\"Destination\"])"
   ]
  },
  {
   "cell_type": "markdown",
   "id": "8cda3642",
   "metadata": {},
   "source": [
    "Normalizing the data"
   ]
  },
  {
   "cell_type": "code",
   "execution_count": 30,
   "id": "79a103ec",
   "metadata": {},
   "outputs": [],
   "source": [
    "mm = MinMaxScaler()\n",
    "c3 = c2.to_numpy()\n",
    "c3 = mm.fit_transform(c3)\n",
    "c2 = pd.DataFrame(c3, columns = c2.columns)"
   ]
  },
  {
   "cell_type": "code",
   "execution_count": 31,
   "id": "6b65e764",
   "metadata": {},
   "outputs": [
    {
     "data": {
      "text/html": [
       "<div>\n",
       "<style scoped>\n",
       "    .dataframe tbody tr th:only-of-type {\n",
       "        vertical-align: middle;\n",
       "    }\n",
       "\n",
       "    .dataframe tbody tr th {\n",
       "        vertical-align: top;\n",
       "    }\n",
       "\n",
       "    .dataframe thead th {\n",
       "        text-align: right;\n",
       "    }\n",
       "</style>\n",
       "<table border=\"1\" class=\"dataframe\">\n",
       "  <thead>\n",
       "    <tr style=\"text-align: right;\">\n",
       "      <th></th>\n",
       "      <th>Month</th>\n",
       "      <th>DayofMonth</th>\n",
       "      <th>DayOfWeek</th>\n",
       "      <th>Actual_Shipment_Time</th>\n",
       "      <th>Planned_Shipment_Time</th>\n",
       "      <th>Planned_Delivery_Time</th>\n",
       "      <th>Carrier_Name</th>\n",
       "      <th>Carrier_Num</th>\n",
       "      <th>Planned_TimeofTravel</th>\n",
       "      <th>Shipment_Delay</th>\n",
       "      <th>Source</th>\n",
       "      <th>Destination</th>\n",
       "      <th>Distance</th>\n",
       "      <th>Delivery_Status</th>\n",
       "    </tr>\n",
       "  </thead>\n",
       "  <tbody>\n",
       "    <tr>\n",
       "      <th>0</th>\n",
       "      <td>0.0</td>\n",
       "      <td>0.066667</td>\n",
       "      <td>0.5</td>\n",
       "      <td>0.834514</td>\n",
       "      <td>0.828741</td>\n",
       "      <td>0.943196</td>\n",
       "      <td>0.894737</td>\n",
       "      <td>0.034295</td>\n",
       "      <td>0.255474</td>\n",
       "      <td>0.039078</td>\n",
       "      <td>0.452703</td>\n",
       "      <td>0.942953</td>\n",
       "      <td>0.161382</td>\n",
       "      <td>0.0</td>\n",
       "    </tr>\n",
       "    <tr>\n",
       "      <th>1</th>\n",
       "      <td>0.0</td>\n",
       "      <td>0.066667</td>\n",
       "      <td>0.5</td>\n",
       "      <td>0.313881</td>\n",
       "      <td>0.311573</td>\n",
       "      <td>0.423908</td>\n",
       "      <td>0.894737</td>\n",
       "      <td>0.331656</td>\n",
       "      <td>0.248175</td>\n",
       "      <td>0.043376</td>\n",
       "      <td>0.452703</td>\n",
       "      <td>0.942953</td>\n",
       "      <td>0.161382</td>\n",
       "      <td>1.0</td>\n",
       "    </tr>\n",
       "    <tr>\n",
       "      <th>2</th>\n",
       "      <td>0.0</td>\n",
       "      <td>0.066667</td>\n",
       "      <td>0.5</td>\n",
       "      <td>0.261359</td>\n",
       "      <td>0.262823</td>\n",
       "      <td>0.317931</td>\n",
       "      <td>0.894737</td>\n",
       "      <td>0.045898</td>\n",
       "      <td>0.167883</td>\n",
       "      <td>0.039078</td>\n",
       "      <td>0.469595</td>\n",
       "      <td>0.161074</td>\n",
       "      <td>0.101798</td>\n",
       "      <td>0.0</td>\n",
       "    </tr>\n",
       "    <tr>\n",
       "      <th>3</th>\n",
       "      <td>0.0</td>\n",
       "      <td>0.066667</td>\n",
       "      <td>0.5</td>\n",
       "      <td>0.385577</td>\n",
       "      <td>0.394235</td>\n",
       "      <td>0.466299</td>\n",
       "      <td>0.894737</td>\n",
       "      <td>0.179177</td>\n",
       "      <td>0.167883</td>\n",
       "      <td>0.034388</td>\n",
       "      <td>0.469595</td>\n",
       "      <td>0.161074</td>\n",
       "      <td>0.101798</td>\n",
       "      <td>0.0</td>\n",
       "    </tr>\n",
       "    <tr>\n",
       "      <th>4</th>\n",
       "      <td>0.0</td>\n",
       "      <td>0.066667</td>\n",
       "      <td>0.5</td>\n",
       "      <td>0.761984</td>\n",
       "      <td>0.743959</td>\n",
       "      <td>0.816024</td>\n",
       "      <td>0.894737</td>\n",
       "      <td>0.402403</td>\n",
       "      <td>0.167883</td>\n",
       "      <td>0.049238</td>\n",
       "      <td>0.469595</td>\n",
       "      <td>0.161074</td>\n",
       "      <td>0.101798</td>\n",
       "      <td>1.0</td>\n",
       "    </tr>\n",
       "    <tr>\n",
       "      <th>...</th>\n",
       "      <td>...</td>\n",
       "      <td>...</td>\n",
       "      <td>...</td>\n",
       "      <td>...</td>\n",
       "      <td>...</td>\n",
       "      <td>...</td>\n",
       "      <td>...</td>\n",
       "      <td>...</td>\n",
       "      <td>...</td>\n",
       "      <td>...</td>\n",
       "      <td>...</td>\n",
       "      <td>...</td>\n",
       "      <td>...</td>\n",
       "      <td>...</td>\n",
       "    </tr>\n",
       "    <tr>\n",
       "      <th>3522158</th>\n",
       "      <td>1.0</td>\n",
       "      <td>0.600000</td>\n",
       "      <td>0.5</td>\n",
       "      <td>0.441017</td>\n",
       "      <td>0.466299</td>\n",
       "      <td>0.532429</td>\n",
       "      <td>0.315789</td>\n",
       "      <td>0.158743</td>\n",
       "      <td>0.381022</td>\n",
       "      <td>0.035561</td>\n",
       "      <td>0.060811</td>\n",
       "      <td>0.489933</td>\n",
       "      <td>0.315290</td>\n",
       "      <td>0.0</td>\n",
       "    </tr>\n",
       "    <tr>\n",
       "      <th>3522159</th>\n",
       "      <td>1.0</td>\n",
       "      <td>0.600000</td>\n",
       "      <td>0.5</td>\n",
       "      <td>0.230930</td>\n",
       "      <td>0.254345</td>\n",
       "      <td>0.312844</td>\n",
       "      <td>0.315789</td>\n",
       "      <td>0.158846</td>\n",
       "      <td>0.179562</td>\n",
       "      <td>0.033998</td>\n",
       "      <td>0.817568</td>\n",
       "      <td>0.060403</td>\n",
       "      <td>0.101798</td>\n",
       "      <td>0.0</td>\n",
       "    </tr>\n",
       "    <tr>\n",
       "      <th>3522160</th>\n",
       "      <td>1.0</td>\n",
       "      <td>0.600000</td>\n",
       "      <td>0.5</td>\n",
       "      <td>0.341809</td>\n",
       "      <td>0.350572</td>\n",
       "      <td>0.425180</td>\n",
       "      <td>0.315789</td>\n",
       "      <td>0.158846</td>\n",
       "      <td>0.176642</td>\n",
       "      <td>0.033607</td>\n",
       "      <td>0.060811</td>\n",
       "      <td>0.469799</td>\n",
       "      <td>0.085033</td>\n",
       "      <td>0.0</td>\n",
       "    </tr>\n",
       "    <tr>\n",
       "      <th>3522161</th>\n",
       "      <td>1.0</td>\n",
       "      <td>0.600000</td>\n",
       "      <td>0.5</td>\n",
       "      <td>0.298875</td>\n",
       "      <td>0.311573</td>\n",
       "      <td>0.361170</td>\n",
       "      <td>0.315789</td>\n",
       "      <td>0.159154</td>\n",
       "      <td>0.148905</td>\n",
       "      <td>0.029308</td>\n",
       "      <td>0.168919</td>\n",
       "      <td>0.060403</td>\n",
       "      <td>0.036356</td>\n",
       "      <td>0.0</td>\n",
       "    </tr>\n",
       "    <tr>\n",
       "      <th>3522162</th>\n",
       "      <td>1.0</td>\n",
       "      <td>0.600000</td>\n",
       "      <td>0.5</td>\n",
       "      <td>0.469362</td>\n",
       "      <td>0.403137</td>\n",
       "      <td>0.479017</td>\n",
       "      <td>0.315789</td>\n",
       "      <td>0.159154</td>\n",
       "      <td>0.268613</td>\n",
       "      <td>0.073466</td>\n",
       "      <td>0.060811</td>\n",
       "      <td>0.661074</td>\n",
       "      <td>0.180772</td>\n",
       "      <td>1.0</td>\n",
       "    </tr>\n",
       "  </tbody>\n",
       "</table>\n",
       "<p>3522163 rows × 14 columns</p>\n",
       "</div>"
      ],
      "text/plain": [
       "         Month  DayofMonth  DayOfWeek  Actual_Shipment_Time  \\\n",
       "0          0.0    0.066667        0.5              0.834514   \n",
       "1          0.0    0.066667        0.5              0.313881   \n",
       "2          0.0    0.066667        0.5              0.261359   \n",
       "3          0.0    0.066667        0.5              0.385577   \n",
       "4          0.0    0.066667        0.5              0.761984   \n",
       "...        ...         ...        ...                   ...   \n",
       "3522158    1.0    0.600000        0.5              0.441017   \n",
       "3522159    1.0    0.600000        0.5              0.230930   \n",
       "3522160    1.0    0.600000        0.5              0.341809   \n",
       "3522161    1.0    0.600000        0.5              0.298875   \n",
       "3522162    1.0    0.600000        0.5              0.469362   \n",
       "\n",
       "         Planned_Shipment_Time  Planned_Delivery_Time  Carrier_Name  \\\n",
       "0                     0.828741               0.943196      0.894737   \n",
       "1                     0.311573               0.423908      0.894737   \n",
       "2                     0.262823               0.317931      0.894737   \n",
       "3                     0.394235               0.466299      0.894737   \n",
       "4                     0.743959               0.816024      0.894737   \n",
       "...                        ...                    ...           ...   \n",
       "3522158               0.466299               0.532429      0.315789   \n",
       "3522159               0.254345               0.312844      0.315789   \n",
       "3522160               0.350572               0.425180      0.315789   \n",
       "3522161               0.311573               0.361170      0.315789   \n",
       "3522162               0.403137               0.479017      0.315789   \n",
       "\n",
       "         Carrier_Num  Planned_TimeofTravel  Shipment_Delay    Source  \\\n",
       "0           0.034295              0.255474        0.039078  0.452703   \n",
       "1           0.331656              0.248175        0.043376  0.452703   \n",
       "2           0.045898              0.167883        0.039078  0.469595   \n",
       "3           0.179177              0.167883        0.034388  0.469595   \n",
       "4           0.402403              0.167883        0.049238  0.469595   \n",
       "...              ...                   ...             ...       ...   \n",
       "3522158     0.158743              0.381022        0.035561  0.060811   \n",
       "3522159     0.158846              0.179562        0.033998  0.817568   \n",
       "3522160     0.158846              0.176642        0.033607  0.060811   \n",
       "3522161     0.159154              0.148905        0.029308  0.168919   \n",
       "3522162     0.159154              0.268613        0.073466  0.060811   \n",
       "\n",
       "         Destination  Distance  Delivery_Status  \n",
       "0           0.942953  0.161382              0.0  \n",
       "1           0.942953  0.161382              1.0  \n",
       "2           0.161074  0.101798              0.0  \n",
       "3           0.161074  0.101798              0.0  \n",
       "4           0.161074  0.101798              1.0  \n",
       "...              ...       ...              ...  \n",
       "3522158     0.489933  0.315290              0.0  \n",
       "3522159     0.060403  0.101798              0.0  \n",
       "3522160     0.469799  0.085033              0.0  \n",
       "3522161     0.060403  0.036356              0.0  \n",
       "3522162     0.661074  0.180772              1.0  \n",
       "\n",
       "[3522163 rows x 14 columns]"
      ]
     },
     "execution_count": 31,
     "metadata": {},
     "output_type": "execute_result"
    }
   ],
   "source": [
    "c2"
   ]
  },
  {
   "cell_type": "markdown",
   "id": "938a1ac9",
   "metadata": {},
   "source": [
    "Input and Output Split"
   ]
  },
  {
   "cell_type": "code",
   "execution_count": 32,
   "id": "fdcec0c0",
   "metadata": {},
   "outputs": [
    {
     "data": {
      "text/plain": [
       "pandas.core.series.Series"
      ]
     },
     "execution_count": 32,
     "metadata": {},
     "output_type": "execute_result"
    }
   ],
   "source": [
    "predictors = c2.loc[:, c2.columns!=\"Delivery_Status\"]\n",
    "type(predictors)\n",
    "\n",
    "target = c2[\"Delivery_Status\"]\n",
    "type(target)\n"
   ]
  },
  {
   "cell_type": "markdown",
   "id": "f80335e1",
   "metadata": {},
   "source": [
    "Creating test train split"
   ]
  },
  {
   "cell_type": "code",
   "execution_count": 33,
   "id": "e413f690",
   "metadata": {},
   "outputs": [],
   "source": [
    "x_train, x_test, y_train, y_test = train_test_split(predictors, target, test_size = 0.2, random_state=0)"
   ]
  },
  {
   "cell_type": "markdown",
   "id": "1f1678aa",
   "metadata": {},
   "source": [
    "Decession Tree Classifier"
   ]
  },
  {
   "cell_type": "code",
   "execution_count": 34,
   "id": "59e6661e",
   "metadata": {},
   "outputs": [
    {
     "data": {
      "text/plain": [
       "1.0"
      ]
     },
     "execution_count": 34,
     "metadata": {},
     "output_type": "execute_result"
    }
   ],
   "source": [
    "from sklearn import tree\n",
    "regtree = tree.DecisionTreeClassifier(max_depth = 3, min_samples_leaf = 5)\n",
    "regtree.fit(x_train, y_train)\n",
    "\n",
    "# Prediction\n",
    "test_pred = regtree.predict(x_test)\n",
    "train_pred = regtree.predict(x_train)\n",
    "\n",
    "from sklearn.metrics import mean_squared_error, r2_score\n",
    "\n",
    "# Error on test dataset\n",
    "mean_squared_error(y_test, test_pred)\n",
    "r2_score(y_test, test_pred)\n",
    "\n",
    "# Error on train dataset\n",
    "mean_squared_error(y_train, train_pred)\n",
    "r2_score(y_train, train_pred)"
   ]
  },
  {
   "cell_type": "markdown",
   "id": "d0fb7127",
   "metadata": {},
   "source": [
    "Bagging classifier"
   ]
  },
  {
   "cell_type": "code",
   "execution_count": 35,
   "id": "8ac5cc7d",
   "metadata": {},
   "outputs": [
    {
     "data": {
      "text/plain": [
       "1.0"
      ]
     },
     "execution_count": 35,
     "metadata": {},
     "output_type": "execute_result"
    }
   ],
   "source": [
    "from sklearn import tree\n",
    "clftree = tree.DecisionTreeClassifier()\n",
    "from sklearn.ensemble import BaggingClassifier\n",
    "\n",
    "\n",
    "bag_clf = BaggingClassifier(base_estimator = clftree, n_estimators = 100,\n",
    "                            bootstrap = True, n_jobs = 1, random_state = 42)\n",
    "\n",
    "bag_clf.fit(x_train, y_train)\n",
    "\n",
    "from sklearn.metrics import accuracy_score, confusion_matrix\n",
    "\n",
    "# Evaluation on Testing Data\n",
    "confusion_matrix(y_test, bag_clf.predict(x_test))\n",
    "accuracy_score(y_test, bag_clf.predict(x_test))\n",
    "\n",
    "# Evaluation on Training Data\n",
    "confusion_matrix(y_train, bag_clf.predict(x_train))\n",
    "accuracy_score(y_train, bag_clf.predict(x_train))\n"
   ]
  },
  {
   "cell_type": "markdown",
   "id": "dbbac53c",
   "metadata": {},
   "source": [
    "Adaboost Classifier"
   ]
  },
  {
   "cell_type": "code",
   "execution_count": 36,
   "id": "306d97cf",
   "metadata": {},
   "outputs": [
    {
     "data": {
      "text/plain": [
       "1.0"
      ]
     },
     "execution_count": 36,
     "metadata": {},
     "output_type": "execute_result"
    }
   ],
   "source": [
    "from sklearn.ensemble import AdaBoostClassifier\n",
    "\n",
    "ada_clf = AdaBoostClassifier(learning_rate = 0.02, n_estimators = 500)\n",
    "\n",
    "ada_clf.fit(x_train, y_train)\n",
    "\n",
    "from sklearn.metrics import accuracy_score, confusion_matrix\n",
    "\n",
    "# Evaluation on Testing Data\n",
    "confusion_matrix(y_test, ada_clf.predict(x_test))\n",
    "accuracy_score(y_test, ada_clf.predict(x_test))\n",
    "\n",
    "# Evaluation on Training Data\n",
    "accuracy_score(y_train, ada_clf.predict(x_train))\n"
   ]
  },
  {
   "cell_type": "markdown",
   "id": "5e8f3b5e",
   "metadata": {},
   "source": [
    "Gradient boost Classifier"
   ]
  },
  {
   "cell_type": "code",
   "execution_count": 37,
   "id": "cd1e7812",
   "metadata": {},
   "outputs": [
    {
     "data": {
      "text/plain": [
       "1.0"
      ]
     },
     "execution_count": 37,
     "metadata": {},
     "output_type": "execute_result"
    }
   ],
   "source": [
    "from sklearn.ensemble import GradientBoostingClassifier\n",
    "\n",
    "boost_clf = GradientBoostingClassifier()\n",
    "\n",
    "boost_clf.fit(x_train, y_train)\n",
    "\n",
    "from sklearn.metrics import accuracy_score, confusion_matrix\n",
    "\n",
    "confusion_matrix(y_test, boost_clf.predict(x_test))\n",
    "accuracy_score(y_test, boost_clf.predict(x_test))\n",
    "\n",
    "accuracy_score(y_train, boost_clf.predict(x_train))"
   ]
  },
  {
   "cell_type": "markdown",
   "id": "cb2271ce",
   "metadata": {},
   "source": [
    "Xgradient Boost Classifier"
   ]
  },
  {
   "cell_type": "code",
   "execution_count": 38,
   "id": "900c0672",
   "metadata": {},
   "outputs": [
    {
     "name": "stdout",
     "output_type": "stream",
     "text": [
      "[12:06:27] WARNING: C:/Users/Administrator/workspace/xgboost-win64_release_1.5.1/src/learner.cc:1115: Starting in XGBoost 1.3.0, the default evaluation metric used with the objective 'binary:logistic' was changed from 'error' to 'logloss'. Explicitly set eval_metric if you'd like to restore the old behavior.\n"
     ]
    },
    {
     "data": {
      "text/plain": [
       "1.0"
      ]
     },
     "execution_count": 38,
     "metadata": {},
     "output_type": "execute_result"
    }
   ],
   "source": [
    "import xgboost as xgb\n",
    "\n",
    "xgb_clf = xgb.XGBClassifier(n_estimators = 500, learning_rate = 0.1, random_state = 42)\n",
    "\n",
    "# n_jobs – Number of parallel threads used to run xgboost.\n",
    "# learning_rate (float) – Boosting learning rate (xgb’s “eta”)\n",
    "\n",
    "\n",
    "xgb_clf.fit(x_train, y_train)\n",
    "\n",
    "from sklearn.metrics import accuracy_score, confusion_matrix\n",
    "\n",
    "# Evaluation on Testing Data\n",
    "confusion_matrix(y_test, xgb_clf.predict(x_test))\n",
    "accuracy_score(y_test, xgb_clf.predict(x_test))\n"
   ]
  },
  {
   "cell_type": "markdown",
   "metadata": {},
   "source": [
    "RandomForest Classifier"
   ]
  },
  {
   "cell_type": "code",
   "execution_count": 39,
   "id": "f7756a35",
   "metadata": {},
   "outputs": [
    {
     "data": {
      "text/plain": [
       "RandomForestClassifier(max_depth=1, max_features=None, min_samples_leaf=5,\n",
       "                       oob_score=True, random_state=101)"
      ]
     },
     "execution_count": 39,
     "metadata": {},
     "output_type": "execute_result"
    }
   ],
   "source": [
    "from sklearn.ensemble import RandomForestClassifier\n",
    "\n",
    "rdf = RandomForestClassifier(n_estimators=100, oob_score=True, random_state=101, max_features=None, max_depth = 1, min_samples_leaf = 5)\n",
    "rdf.fit(x_train, y_train)"
   ]
  },
  {
   "cell_type": "code",
   "execution_count": 40,
   "id": "b7870025",
   "metadata": {},
   "outputs": [],
   "source": [
    "y_pred=rdf.predict(x_test)"
   ]
  },
  {
   "cell_type": "code",
   "execution_count": 41,
   "id": "94fe925d",
   "metadata": {},
   "outputs": [
    {
     "data": {
      "text/plain": [
       "1.0"
      ]
     },
     "execution_count": 41,
     "metadata": {},
     "output_type": "execute_result"
    }
   ],
   "source": [
    "from sklearn.metrics import accuracy_score, confusion_matrix\n",
    "\n",
    "# Evaluation on Testing Data\n",
    "confusion_matrix(y_test, rdf.predict(x_test))\n",
    "accuracy_score(y_test, rdf.predict(x_test))"
   ]
  },
  {
   "cell_type": "markdown",
   "id": "012765af",
   "metadata": {},
   "source": [
    "SGD Classifier"
   ]
  },
  {
   "cell_type": "code",
   "execution_count": 42,
   "id": "a45eccb5",
   "metadata": {},
   "outputs": [
    {
     "data": {
      "text/plain": [
       "SGDClassifier(loss='modified_huber', random_state=101)"
      ]
     },
     "execution_count": 42,
     "metadata": {},
     "output_type": "execute_result"
    }
   ],
   "source": [
    "from sklearn.linear_model import SGDClassifier\n",
    "sgd = SGDClassifier(loss= 'modified_huber', shuffle = True, random_state=101)\n",
    "sgd.fit(x_train,y_train)\n"
   ]
  },
  {
   "cell_type": "code",
   "execution_count": 43,
   "id": "6cb2a9b0",
   "metadata": {},
   "outputs": [
    {
     "data": {
      "text/plain": [
       "0.8958708635171834"
      ]
     },
     "execution_count": 43,
     "metadata": {},
     "output_type": "execute_result"
    }
   ],
   "source": [
    "from sklearn.metrics import accuracy_score, confusion_matrix\n",
    "\n",
    "# Evaluation on Testing Data\n",
    "confusion_matrix(y_test, sgd.predict(x_test))\n",
    "accuracy_score(y_test, sgd.predict(x_test))"
   ]
  },
  {
   "cell_type": "code",
   "execution_count": 44,
   "id": "5238edff",
   "metadata": {},
   "outputs": [
    {
     "data": {
      "text/plain": [
       "0.8960230398228362"
      ]
     },
     "execution_count": 44,
     "metadata": {},
     "output_type": "execute_result"
    }
   ],
   "source": [
    "from sklearn.metrics import accuracy_score, confusion_matrix\n",
    "\n",
    "# Evaluation on Testing Data\n",
    "confusion_matrix(y_train, sgd.predict(x_train))\n",
    "accuracy_score(y_train, sgd.predict(x_train))"
   ]
  }
 ],
 "metadata": {
  "interpreter": {
   "hash": "ffc0dfb315c7ad266563f2e74b5e896c7739af30a8ceafc3f780fb3e074844d6"
  },
  "kernelspec": {
   "display_name": "Python 3.9.7 ('base')",
   "language": "python",
   "name": "python3"
  },
  "language_info": {
   "codemirror_mode": {
    "name": "ipython",
    "version": 3
   },
   "file_extension": ".py",
   "mimetype": "text/x-python",
   "name": "python",
   "nbconvert_exporter": "python",
   "pygments_lexer": "ipython3",
   "version": "3.9.7"
  }
 },
 "nbformat": 4,
 "nbformat_minor": 5
}
